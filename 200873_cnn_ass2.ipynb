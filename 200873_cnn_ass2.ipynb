{
  "cells": [
    {
      "cell_type": "code",
      "execution_count": 1,
      "metadata": {
        "id": "YGw0z4LL7bUE"
      },
      "outputs": [],
      "source": [
        "import numpy as np\n",
        "import pandas as pd\n",
        "import matplotlib.pyplot as plt\n",
        "import seaborn as sns\n",
        "import os\n",
        "import tensorflow as tf\n",
        "import librosa\n",
        "from librosa import display\n",
        "%matplotlib inline"
      ]
    },
    {
      "cell_type": "markdown",
      "metadata": {
        "id": "Ia_dra8mIg9I"
      },
      "source": [
        "#Loading"
      ]
    },
    {
      "cell_type": "code",
      "execution_count": 2,
      "metadata": {
        "id": "5PGCA7woIgY-"
      },
      "outputs": [],
      "source": [
        "path = '/content/drive/MyDrive/COLAB Files/dataset_a2'"
      ]
    },
    {
      "cell_type": "code",
      "execution_count": 3,
      "metadata": {
        "id": "rah1txtkJGTx"
      },
      "outputs": [],
      "source": [
        "x_train = np.load('/content/drive/MyDrive/COLAB Files/dataset_a2/x_train.npy')"
      ]
    },
    {
      "cell_type": "code",
      "execution_count": 4,
      "metadata": {
        "id": "eXlYylLHJGQX"
      },
      "outputs": [],
      "source": [
        "x_test = np.load('/content/drive/MyDrive/COLAB Files/dataset_a2/x_test.npy')"
      ]
    },
    {
      "cell_type": "code",
      "execution_count": 5,
      "metadata": {
        "id": "fHgy5Q5wJGN7"
      },
      "outputs": [],
      "source": [
        "y_train = np.load('/content/drive/MyDrive/COLAB Files/dataset_a2/y_train.npy')"
      ]
    },
    {
      "cell_type": "code",
      "execution_count": 6,
      "metadata": {
        "id": "SMdmkqsSJGLK"
      },
      "outputs": [],
      "source": [
        "y_test = np.load('/content/drive/MyDrive/COLAB Files/dataset_a2/y_test.npy')"
      ]
    },
    {
      "cell_type": "code",
      "execution_count": 9,
      "metadata": {
        "colab": {
          "base_uri": "https://localhost:8080/"
        },
        "id": "T90LKGkWPaB7",
        "outputId": "97eecb86-ffb7-45d4-b86b-224eb6a4785a"
      },
      "outputs": [
        {
          "data": {
            "text/plain": [
              "(8000, 64, 1000, 1)"
            ]
          },
          "execution_count": 9,
          "metadata": {},
          "output_type": "execute_result"
        }
      ],
      "source": [
        "x_train.shape"
      ]
    },
    {
      "cell_type": "code",
      "execution_count": 10,
      "metadata": {
        "colab": {
          "base_uri": "https://localhost:8080/"
        },
        "id": "B9b5ezMIJzMG",
        "outputId": "cc011cb1-7260-4129-a4bc-e94b226fc852"
      },
      "outputs": [
        {
          "data": {
            "text/plain": [
              "(8000, 10)"
            ]
          },
          "execution_count": 10,
          "metadata": {},
          "output_type": "execute_result"
        }
      ],
      "source": [
        "y_train.shape"
      ]
    },
    {
      "cell_type": "code",
      "execution_count": 11,
      "metadata": {
        "colab": {
          "base_uri": "https://localhost:8080/"
        },
        "id": "4I07i3StJy3N",
        "outputId": "0bdb3350-32ea-4e2f-daed-353975d5906e"
      },
      "outputs": [
        {
          "data": {
            "text/plain": [
              "(2000, 64, 1000, 1)"
            ]
          },
          "execution_count": 11,
          "metadata": {},
          "output_type": "execute_result"
        }
      ],
      "source": [
        "x_test.shape"
      ]
    },
    {
      "cell_type": "code",
      "execution_count": 12,
      "metadata": {
        "colab": {
          "base_uri": "https://localhost:8080/"
        },
        "id": "xPUOJaXeJy0G",
        "outputId": "a5129531-7192-4732-dde1-1220226d5f82"
      },
      "outputs": [
        {
          "data": {
            "text/plain": [
              "(2000, 10)"
            ]
          },
          "execution_count": 12,
          "metadata": {},
          "output_type": "execute_result"
        }
      ],
      "source": [
        "y_test.shape"
      ]
    },
    {
      "cell_type": "code",
      "execution_count": 49,
      "metadata": {
        "colab": {
          "base_uri": "https://localhost:8080/"
        },
        "id": "qROyRV75LpFB",
        "outputId": "e672e502-6ea6-497b-f724-4fbdc81eb5ed"
      },
      "outputs": [
        {
          "data": {
            "text/plain": [
              "array([0., 0., 0., 1., 0., 0., 1., 0., 1., 0.])"
            ]
          },
          "execution_count": 49,
          "metadata": {},
          "output_type": "execute_result"
        }
      ],
      "source": [
        "y_train[0]"
      ]
    },
    {
      "cell_type": "code",
      "execution_count": 50,
      "metadata": {
        "colab": {
          "base_uri": "https://localhost:8080/"
        },
        "id": "SfNhKbPLLsOv",
        "outputId": "517d0ec7-9cf0-47dc-a418-dc1f659691e6"
      },
      "outputs": [
        {
          "data": {
            "text/plain": [
              "array([0., 0., 0., 0., 0., 0., 0., 0., 1., 1.])"
            ]
          },
          "execution_count": 50,
          "metadata": {},
          "output_type": "execute_result"
        }
      ],
      "source": [
        "y_test[0]"
      ]
    },
    {
      "cell_type": "code",
      "execution_count": 15,
      "metadata": {
        "id": "BTI93CLX59hm"
      },
      "outputs": [],
      "source": [
        "from tensorflow.keras.models import Sequential, Model\n",
        "from tensorflow.keras.layers import Conv2D, Flatten, MaxPooling2D\n",
        "from tensorflow.keras.optimizers import SGD, Adam\n",
        "from tensorflow.keras.layers import Dense,Dropout,Activation\n",
        "from sklearn import metrics\n",
        "from tensorflow import keras\n",
        "from keras.layers import Bidirectional, TimeDistributed,SpatialDropout2D, MaxPool2D, Input, GRU, LSTM,Dense, Activation, Dropout,Flatten, Reshape, Permute\n",
        "from keras.layers import BatchNormalization,ZeroPadding1D\n",
        "from tensorflow.keras.callbacks import EarlyStopping, ModelCheckpoint\n",
        "from sklearn.metrics import f1_score,recall_score,precision_score"
      ]
    },
    {
      "cell_type": "markdown",
      "metadata": {
        "id": "Y8mVmbkakci0"
      },
      "source": [
        "#Model"
      ]
    },
    {
      "cell_type": "code",
      "execution_count": 22,
      "metadata": {
        "colab": {
          "base_uri": "https://localhost:8080/"
        },
        "id": "IzdUs8grkcLO",
        "outputId": "06f80f76-4262-4f77-ed57-208c67718b7f"
      },
      "outputs": [
        {
          "name": "stdout",
          "output_type": "stream",
          "text": [
            "Model: \"sequential\"\n",
            "_________________________________________________________________\n",
            " Layer (type)                Output Shape              Param #   \n",
            "=================================================================\n",
            " conv2d (Conv2D)             (None, 62, 998, 4)        40        \n",
            "                                                                 \n",
            " batch_normalization (BatchN  (None, 62, 998, 4)       16        \n",
            " ormalization)                                                   \n",
            "                                                                 \n",
            " max_pooling2d (MaxPooling2D  (None, 31, 499, 4)       0         \n",
            " )                                                               \n",
            "                                                                 \n",
            " dropout (Dropout)           (None, 31, 499, 4)        0         \n",
            "                                                                 \n",
            " conv2d_1 (Conv2D)           (None, 29, 497, 16)       592       \n",
            "                                                                 \n",
            " batch_normalization_1 (Batc  (None, 29, 497, 16)      64        \n",
            " hNormalization)                                                 \n",
            "                                                                 \n",
            " max_pooling2d_1 (MaxPooling  (None, 14, 248, 16)      0         \n",
            " 2D)                                                             \n",
            "                                                                 \n",
            " dropout_1 (Dropout)         (None, 14, 248, 16)       0         \n",
            "                                                                 \n",
            " conv2d_2 (Conv2D)           (None, 12, 246, 64)       9280      \n",
            "                                                                 \n",
            " batch_normalization_2 (Batc  (None, 12, 246, 64)      256       \n",
            " hNormalization)                                                 \n",
            "                                                                 \n",
            " max_pooling2d_2 (MaxPooling  (None, 6, 123, 64)       0         \n",
            " 2D)                                                             \n",
            "                                                                 \n",
            " dropout_2 (Dropout)         (None, 6, 123, 64)        0         \n",
            "                                                                 \n",
            " flatten (Flatten)           (None, 47232)             0         \n",
            "                                                                 \n",
            " dense (Dense)               (None, 128)               6045824   \n",
            "                                                                 \n",
            " dropout_3 (Dropout)         (None, 128)               0         \n",
            "                                                                 \n",
            " dense_1 (Dense)             (None, 10)                1290      \n",
            "                                                                 \n",
            "=================================================================\n",
            "Total params: 6,057,362\n",
            "Trainable params: 6,057,194\n",
            "Non-trainable params: 168\n",
            "_________________________________________________________________\n"
          ]
        }
      ],
      "source": [
        "m = Sequential()\n",
        "m.add(Conv2D(4, (3, 3), activation='relu', input_shape=(64,1000,1)))\n",
        "m.add(BatchNormalization())\n",
        "m.add(MaxPooling2D((2, 2)))\n",
        "m.add(Dropout(0.25))\n",
        "\n",
        "m.add(Conv2D(16, (3, 3), activation='relu'))\n",
        "m.add(BatchNormalization())\n",
        "m.add(MaxPooling2D((2, 2)))\n",
        "m.add(Dropout(0.25))\n",
        "\n",
        "m.add(Conv2D(64, (3, 3), activation='relu'))\n",
        "m.add(BatchNormalization())\n",
        "m.add(MaxPooling2D((2, 2)))\n",
        "m.add(Dropout(0.25))\n",
        "\n",
        "m.add(Flatten())\n",
        "m.add(Dense(128, activation='relu'))\n",
        "m.add(Dropout(0.25))\n",
        "m.add(Dense(10, activation='sigmoid'))\n",
        "\n",
        "m.summary()"
      ]
    },
    {
      "cell_type": "code",
      "execution_count": 23,
      "metadata": {
        "id": "fP19fnGFkspY"
      },
      "outputs": [],
      "source": [
        "m.compile(optimizer='adam',loss='binary_crossentropy', metrics=['accuracy'])"
      ]
    },
    {
      "cell_type": "code",
      "execution_count": null,
      "metadata": {
        "colab": {
          "base_uri": "https://localhost:8080/"
        },
        "id": "PFGKYPJRk1jU",
        "outputId": "8b83cc78-19a5-4751-c10a-5f0250ea0aae"
      },
      "outputs": [],
      "source": [
        "m.fit(x_train, y_train, epochs=200)"
      ]
    },
    {
      "cell_type": "markdown",
      "metadata": {
        "id": "g8BkpG8HAbik"
      },
      "source": [
        "#pred"
      ]
    },
    {
      "cell_type": "code",
      "execution_count": 54,
      "metadata": {
        "colab": {
          "base_uri": "https://localhost:8080/"
        },
        "id": "48sZS0X2bqh7",
        "outputId": "2e7157f2-a035-4362-a5a2-ac8fcd0c9760"
      },
      "outputs": [
        {
          "name": "stdout",
          "output_type": "stream",
          "text": [
            "63/63 [==============================] - 1s 10ms/step\n"
          ]
        }
      ],
      "source": [
        "y_pred = m.predict(x_test)"
      ]
    },
    {
      "cell_type": "code",
      "execution_count": 55,
      "metadata": {
        "colab": {
          "base_uri": "https://localhost:8080/"
        },
        "id": "jDDBTepYtgQS",
        "outputId": "7cc47c65-14ad-4059-c1ab-fb9a78d1281e"
      },
      "outputs": [
        {
          "name": "stdout",
          "output_type": "stream",
          "text": [
            "[0. 0. 0. 0. 0. 0. 0. 0. 1. 1.]\n",
            "[0.08600029 0.13986954 0.10861553 0.38920778 0.12266248 0.12388919\n",
            " 0.21290597 0.14065251 0.8863853  0.0578765 ]\n"
          ]
        }
      ],
      "source": [
        "print(y_test[0])\n",
        "print(y_pred[0])"
      ]
    },
    {
      "cell_type": "code",
      "execution_count": 59,
      "metadata": {
        "id": "Krc6WDgDuyIQ"
      },
      "outputs": [],
      "source": [
        "for i in range (len(y_pred)) :\n",
        "  for j in range (10):\n",
        "    if y_pred[i,j] >=0.5 :\n",
        "      y_pred[i,j] = 1\n",
        "    else :\n",
        "      y_pred[i,j] = 0"
      ]
    },
    {
      "cell_type": "code",
      "execution_count": 61,
      "metadata": {
        "colab": {
          "base_uri": "https://localhost:8080/"
        },
        "id": "nyPIagK5OxU5",
        "outputId": "d61f91e8-e959-4b5a-ca5d-81d8b0f5d037"
      },
      "outputs": [
        {
          "name": "stdout",
          "output_type": "stream",
          "text": [
            "0.5805837563451776\n"
          ]
        }
      ],
      "source": [
        "print(f1_score(y_test, y_pred, average = 'micro'))"
      ]
    },
    {
      "cell_type": "code",
      "execution_count": null,
      "metadata": {
        "id": "rdUq-Tj-PQ5U"
      },
      "outputs": [],
      "source": []
    },
    {
      "cell_type": "code",
      "execution_count": 67,
      "metadata": {
        "colab": {
          "base_uri": "https://localhost:8080/",
          "height": 35
        },
        "id": "AzQGkha3PpWy",
        "outputId": "d7705fd7-9f84-4d39-c440-1261933f1588"
      },
      "outputs": [
        {
          "data": {
            "application/vnd.google.colaboratory.intrinsic+json": {
              "type": "string"
            },
            "text/plain": [
              "'/content'"
            ]
          },
          "execution_count": 67,
          "metadata": {},
          "output_type": "execute_result"
        }
      ],
      "source": [
        "os.getcwd()"
      ]
    },
    {
      "cell_type": "code",
      "execution_count": 69,
      "metadata": {
        "colab": {
          "base_uri": "https://localhost:8080/",
          "height": 35
        },
        "id": "uS8bfv_oSKNk",
        "outputId": "81aeed2a-b124-46cf-bb1b-6a256feb482e"
      },
      "outputs": [
        {
          "data": {
            "application/vnd.google.colaboratory.intrinsic+json": {
              "type": "string"
            },
            "text/plain": [
              "'/content/drive/MyDrive/COLAB Files'"
            ]
          },
          "execution_count": 69,
          "metadata": {},
          "output_type": "execute_result"
        }
      ],
      "source": [
        "path = '/content/drive/MyDrive/COLAB Files'\n",
        "os.chdir(path)\n",
        "os.getcwd()"
      ]
    },
    {
      "cell_type": "code",
      "execution_count": 71,
      "metadata": {
        "colab": {
          "base_uri": "https://localhost:8080/"
        },
        "id": "Gng1kcWpSdvr",
        "outputId": "37988dfe-eecd-4afd-c362-88581c2cb6b9"
      },
      "outputs": [
        {
          "name": "stderr",
          "output_type": "stream",
          "text": [
            "WARNING:absl:Found untraced functions such as _jit_compiled_convolution_op, _jit_compiled_convolution_op, _jit_compiled_convolution_op while saving (showing 3 of 3). These functions will not be directly callable after loading.\n"
          ]
        }
      ],
      "source": [
        "m.save('cnn1')"
      ]
    },
    {
      "cell_type": "code",
      "execution_count": null,
      "metadata": {
        "id": "3QDz7to6Stw7"
      },
      "outputs": [],
      "source": []
    }
  ],
  "metadata": {
    "accelerator": "GPU",
    "colab": {
      "collapsed_sections": [
        "Ia_dra8mIg9I",
        "Uq-ToIX3MRBL",
        "Y8mVmbkakci0",
        "kB0-ctbVuehk",
        "tGSRa0AXI6x7"
      ],
      "provenance": []
    },
    "gpuClass": "standard",
    "kernelspec": {
      "display_name": "Python 3.10.2 64-bit",
      "language": "python",
      "name": "python3"
    },
    "language_info": {
      "name": "python",
      "version": "3.10.2"
    },
    "vscode": {
      "interpreter": {
        "hash": "bb7837b90114a9796f88f5c44ab04f2f1aa4f30584d8aa74a4612e3afe72275d"
      }
    }
  },
  "nbformat": 4,
  "nbformat_minor": 0
}
