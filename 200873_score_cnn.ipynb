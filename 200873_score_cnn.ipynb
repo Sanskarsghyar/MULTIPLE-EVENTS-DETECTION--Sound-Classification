{
  "cells": [
    {
      "cell_type": "code",
      "execution_count": 2,
      "metadata": {
        "id": "YGw0z4LL7bUE"
      },
      "outputs": [],
      "source": [
        "import numpy as np\n",
        "import pandas as pd\n",
        "import os\n",
        "import matplotlib.pyplot as plt\n",
        "import tensorflow as tf\n",
        "import librosa\n",
        "%matplotlib inline"
      ]
    },
    {
      "cell_type": "markdown",
      "metadata": {
        "id": "vEGHoAUkeY3j"
      },
      "source": [
        "##Load test_labels"
      ]
    },
    {
      "cell_type": "code",
      "execution_count": 3,
      "metadata": {
        "colab": {
          "base_uri": "https://localhost:8080/",
          "height": 35
        },
        "id": "FHHepLeZouKi",
        "outputId": "3afc639e-150e-4f97-8bdb-2937429f982c"
      },
      "outputs": [
        {
          "data": {
            "application/vnd.google.colaboratory.intrinsic+json": {
              "type": "string"
            },
            "text/plain": [
              "'/content/drive/MyDrive/lables_test'"
            ]
          },
          "execution_count": 3,
          "metadata": {},
          "output_type": "execute_result"
        }
      ],
      "source": [
        "path = '/content/drive/MyDrive/lables_test'\n",
        "os.chdir(path)\n",
        "os.getcwd()"
      ]
    },
    {
      "cell_type": "code",
      "execution_count": 4,
      "metadata": {
        "id": "cMhh9wvq-E7i"
      },
      "outputs": [],
      "source": [
        "def eventroll_to_multihot_vector(eventroll):\n",
        "    \"\"\"\n",
        "    Parameters\n",
        "    ----------\n",
        "    eventroll : np.array\n",
        "        Eventroll matrix of shape=(11, 1000).\n",
        "    \n",
        "    Returns\n",
        "    -------\n",
        "    np.array\n",
        "        A multihot vector of shape=(10,)\n",
        "    \"\"\"\n",
        "    \n",
        "    # findout active events:\n",
        "    active_events = (eventroll.sum(axis=1) >= 0.5).astype('float')\n",
        "    \n",
        "    # remove silence class:\n",
        "    return np.delete(active_events, 8)"
      ]
    },
    {
      "cell_type": "code",
      "execution_count": 5,
      "metadata": {
        "colab": {
          "base_uri": "https://localhost:8080/",
          "height": 35
        },
        "id": "gI60DpsQ8rYZ",
        "outputId": "31764cbf-948b-4dff-b95d-9d61a92a5032"
      },
      "outputs": [
        {
          "data": {
            "application/vnd.google.colaboratory.intrinsic+json": {
              "type": "string"
            },
            "text/plain": [
              "'/content/drive/MyDrive/lables_test'"
            ]
          },
          "execution_count": 5,
          "metadata": {},
          "output_type": "execute_result"
        }
      ],
      "source": [
        "os.chdir(path)\n",
        "os.getcwd()"
      ]
    },
    {
      "cell_type": "code",
      "execution_count": 6,
      "metadata": {
        "colab": {
          "base_uri": "https://localhost:8080/"
        },
        "id": "d9Btt6g9-rb7",
        "outputId": "22ae39f2-ff14-4fcd-a984-dce469f5d2ad"
      },
      "outputs": [
        {
          "data": {
            "text/plain": [
              "2500"
            ]
          },
          "execution_count": 6,
          "metadata": {},
          "output_type": "execute_result"
        }
      ],
      "source": [
        "yp = os.listdir()\n",
        "len(yp)"
      ]
    },
    {
      "cell_type": "code",
      "execution_count": 7,
      "metadata": {
        "colab": {
          "base_uri": "https://localhost:8080/",
          "height": 35
        },
        "id": "h0v3YkZ1gBNL",
        "outputId": "0bcef8e6-7d5a-4ad2-ef6d-01a4ba180d5d"
      },
      "outputs": [
        {
          "data": {
            "application/vnd.google.colaboratory.intrinsic+json": {
              "type": "string"
            },
            "text/plain": [
              "'eventroll_2348.npy'"
            ]
          },
          "execution_count": 7,
          "metadata": {},
          "output_type": "execute_result"
        }
      ],
      "source": [
        "yp[0]"
      ]
    },
    {
      "cell_type": "code",
      "execution_count": 8,
      "metadata": {
        "id": "23bm5TLEgWnz"
      },
      "outputs": [],
      "source": [
        "yp.sort()"
      ]
    },
    {
      "cell_type": "code",
      "execution_count": 9,
      "metadata": {
        "colab": {
          "base_uri": "https://localhost:8080/",
          "height": 35
        },
        "id": "OCGiKhNLhkNN",
        "outputId": "78ad68e5-add0-45e8-9408-9b77464d9232"
      },
      "outputs": [
        {
          "data": {
            "application/vnd.google.colaboratory.intrinsic+json": {
              "type": "string"
            },
            "text/plain": [
              "'eventroll_0.npy'"
            ]
          },
          "execution_count": 9,
          "metadata": {},
          "output_type": "execute_result"
        }
      ],
      "source": [
        "yp[0]"
      ]
    },
    {
      "cell_type": "code",
      "execution_count": 10,
      "metadata": {
        "id": "yokNUKGL9WGa"
      },
      "outputs": [],
      "source": [
        "y_et = np.zeros((len(yp),11,1000))\n",
        "\n",
        "for i in range(len(yp)):\n",
        "  b = np.load(yp[i])\n",
        "  y_et[i,:,:] = b[:,:]"
      ]
    },
    {
      "cell_type": "code",
      "execution_count": 11,
      "metadata": {
        "id": "8Mbf--ZOSe39"
      },
      "outputs": [],
      "source": [
        "y = np.zeros((len(yp),10))\n",
        "\n",
        "for i in range(len(yp)):\n",
        "  c = eventroll_to_multihot_vector(y_et[i])\n",
        "  y[i,:] = c"
      ]
    },
    {
      "cell_type": "code",
      "execution_count": 12,
      "metadata": {
        "colab": {
          "base_uri": "https://localhost:8080/"
        },
        "id": "oL7bLcgFL7RR",
        "outputId": "3fdcbc6e-04c6-4dbf-e627-164cf376922e"
      },
      "outputs": [
        {
          "data": {
            "text/plain": [
              "(2500, 10)"
            ]
          },
          "execution_count": 12,
          "metadata": {},
          "output_type": "execute_result"
        }
      ],
      "source": [
        "y.shape"
      ]
    },
    {
      "cell_type": "code",
      "execution_count": 13,
      "metadata": {
        "colab": {
          "base_uri": "https://localhost:8080/"
        },
        "id": "3jQk4HdLPX0O",
        "outputId": "bf6e4beb-b463-498d-f6da-abb610e2c2af"
      },
      "outputs": [
        {
          "data": {
            "text/plain": [
              "(10,)"
            ]
          },
          "execution_count": 13,
          "metadata": {},
          "output_type": "execute_result"
        }
      ],
      "source": [
        "y[0].shape"
      ]
    },
    {
      "cell_type": "code",
      "execution_count": 14,
      "metadata": {
        "colab": {
          "base_uri": "https://localhost:8080/"
        },
        "id": "NIFnjJhaBg3R",
        "outputId": "85494833-8525-4699-d76b-98847948fea6"
      },
      "outputs": [
        {
          "data": {
            "text/plain": [
              "array([0., 0., 0., 0., 1., 0., 0., 0., 1., 0.])"
            ]
          },
          "execution_count": 14,
          "metadata": {},
          "output_type": "execute_result"
        }
      ],
      "source": [
        "y[0]"
      ]
    },
    {
      "cell_type": "code",
      "execution_count": 15,
      "metadata": {
        "id": "rhvvTaGud-3J"
      },
      "outputs": [],
      "source": [
        "y_test = y"
      ]
    },
    {
      "cell_type": "code",
      "execution_count": 15,
      "metadata": {
        "id": "1od9zjjyePYB"
      },
      "outputs": [],
      "source": []
    },
    {
      "cell_type": "markdown",
      "metadata": {
        "id": "Opnkox9eBl5M"
      },
      "source": [
        "##Read X"
      ]
    },
    {
      "cell_type": "code",
      "execution_count": 16,
      "metadata": {
        "colab": {
          "base_uri": "https://localhost:8080/",
          "height": 35
        },
        "id": "5XbAkwTVojVb",
        "outputId": "e109f31f-ba3e-474c-8ec6-46e3f772052d"
      },
      "outputs": [
        {
          "data": {
            "application/vnd.google.colaboratory.intrinsic+json": {
              "type": "string"
            },
            "text/plain": [
              "'/content/drive/MyDrive/lables_test'"
            ]
          },
          "execution_count": 16,
          "metadata": {},
          "output_type": "execute_result"
        }
      ],
      "source": [
        "os.getcwd()"
      ]
    },
    {
      "cell_type": "code",
      "execution_count": 17,
      "metadata": {
        "id": "7gTzLq9kGPbS"
      },
      "outputs": [],
      "source": [
        "xtestpath = '/content/drive/MyDrive/test/X'"
      ]
    },
    {
      "cell_type": "code",
      "execution_count": 18,
      "metadata": {
        "colab": {
          "base_uri": "https://localhost:8080/",
          "height": 35
        },
        "id": "CgV4M7dTAsOq",
        "outputId": "6255c82c-56ed-42ae-e32a-0afc79ea246c"
      },
      "outputs": [
        {
          "data": {
            "application/vnd.google.colaboratory.intrinsic+json": {
              "type": "string"
            },
            "text/plain": [
              "'/content/drive/MyDrive/test/X'"
            ]
          },
          "execution_count": 18,
          "metadata": {},
          "output_type": "execute_result"
        }
      ],
      "source": [
        "os.chdir(xtestpath)\n",
        "os.getcwd()"
      ]
    },
    {
      "cell_type": "code",
      "execution_count": 19,
      "metadata": {
        "colab": {
          "base_uri": "https://localhost:8080/"
        },
        "id": "3j2eWlSxCnsa",
        "outputId": "1425c811-f882-4501-82a9-4a94d27e6699"
      },
      "outputs": [
        {
          "data": {
            "text/plain": [
              "2500"
            ]
          },
          "execution_count": 19,
          "metadata": {},
          "output_type": "execute_result"
        }
      ],
      "source": [
        "xp = os.listdir()\n",
        "len(xp)"
      ]
    },
    {
      "cell_type": "code",
      "execution_count": 20,
      "metadata": {
        "colab": {
          "base_uri": "https://localhost:8080/",
          "height": 35
        },
        "id": "D72x9k_QiSjS",
        "outputId": "a4b77c25-4c51-479e-acfc-3259f45787c6"
      },
      "outputs": [
        {
          "data": {
            "application/vnd.google.colaboratory.intrinsic+json": {
              "type": "string"
            },
            "text/plain": [
              "'melspec_20.npy'"
            ]
          },
          "execution_count": 20,
          "metadata": {},
          "output_type": "execute_result"
        }
      ],
      "source": [
        "xp[0]"
      ]
    },
    {
      "cell_type": "code",
      "execution_count": 21,
      "metadata": {
        "id": "tMsDG6kfgn9_"
      },
      "outputs": [],
      "source": [
        "xp.sort()"
      ]
    },
    {
      "cell_type": "code",
      "execution_count": 22,
      "metadata": {
        "colab": {
          "base_uri": "https://localhost:8080/",
          "height": 35
        },
        "id": "OTcWtglWgzys",
        "outputId": "e51294db-45ad-4b8c-c9a5-6b37c8c53ccd"
      },
      "outputs": [
        {
          "data": {
            "application/vnd.google.colaboratory.intrinsic+json": {
              "type": "string"
            },
            "text/plain": [
              "'melspec_0.npy'"
            ]
          },
          "execution_count": 22,
          "metadata": {},
          "output_type": "execute_result"
        }
      ],
      "source": [
        "xp[0]"
      ]
    },
    {
      "cell_type": "code",
      "execution_count": 23,
      "metadata": {
        "id": "g6SUjlgmCubm"
      },
      "outputs": [],
      "source": [
        "x_test = np.zeros((len(xp),64,1000,1))\n",
        "\n",
        "for i in range(len(xp)):\n",
        "  a = np.load(xp[i])\n",
        "  x_test[i,:,0:1000,0] = a[0,:,0:1000]"
      ]
    },
    {
      "cell_type": "code",
      "execution_count": 24,
      "metadata": {
        "colab": {
          "base_uri": "https://localhost:8080/"
        },
        "id": "2BhNRV0JL1rG",
        "outputId": "c4a107c5-ad5d-4a73-be4c-1990173d827e"
      },
      "outputs": [
        {
          "data": {
            "text/plain": [
              "(2500, 64, 1000, 1)"
            ]
          },
          "execution_count": 24,
          "metadata": {},
          "output_type": "execute_result"
        }
      ],
      "source": [
        "x_test.shape "
      ]
    },
    {
      "cell_type": "code",
      "execution_count": 25,
      "metadata": {
        "colab": {
          "base_uri": "https://localhost:8080/",
          "height": 35
        },
        "id": "gs4_qU2rJu-q",
        "outputId": "614b7247-5512-444c-cd2b-3591f95dea8f"
      },
      "outputs": [
        {
          "data": {
            "application/vnd.google.colaboratory.intrinsic+json": {
              "type": "string"
            },
            "text/plain": [
              "'melspec_0.npy'"
            ]
          },
          "execution_count": 25,
          "metadata": {},
          "output_type": "execute_result"
        }
      ],
      "source": [
        "xp[0]"
      ]
    },
    {
      "cell_type": "code",
      "execution_count": 26,
      "metadata": {
        "colab": {
          "base_uri": "https://localhost:8080/"
        },
        "id": "RShIIDop0o1i",
        "outputId": "85058579-3961-4fcd-b0b0-c3c559f13c5f"
      },
      "outputs": [
        {
          "data": {
            "text/plain": [
              "numpy.ndarray"
            ]
          },
          "execution_count": 26,
          "metadata": {},
          "output_type": "execute_result"
        }
      ],
      "source": [
        "type(x_test)"
      ]
    },
    {
      "cell_type": "markdown",
      "metadata": {
        "id": "zpiZveYXevfP"
      },
      "source": [
        "#Pred"
      ]
    },
    {
      "cell_type": "code",
      "execution_count": 27,
      "metadata": {
        "id": "sJFiB5IVHetl"
      },
      "outputs": [],
      "source": [
        "m = tf.keras.models.load_model('/content/drive/MyDrive/cnn1')"
      ]
    },
    {
      "cell_type": "code",
      "execution_count": 28,
      "metadata": {
        "colab": {
          "base_uri": "https://localhost:8080/"
        },
        "id": "GxGHsIWse6_Y",
        "outputId": "03ea7019-93e5-4568-f0c2-a75c1daa9702"
      },
      "outputs": [
        {
          "name": "stdout",
          "output_type": "stream",
          "text": [
            "79/79 [==============================] - 32s 395ms/step\n"
          ]
        }
      ],
      "source": [
        "y_pred = m.predict(x_test)"
      ]
    },
    {
      "cell_type": "code",
      "execution_count": 29,
      "metadata": {
        "id": "d_JPuK_VfAC3"
      },
      "outputs": [],
      "source": [
        "for i in range (len(y_pred)) :\n",
        "  for j in range (10):\n",
        "    if y_pred[i,j] >=0.5 :\n",
        "      y_pred[i,j] = 1\n",
        "    else :\n",
        "      y_pred[i,j] = 0"
      ]
    },
    {
      "cell_type": "code",
      "execution_count": 30,
      "metadata": {
        "colab": {
          "base_uri": "https://localhost:8080/"
        },
        "id": "SqNgT1GffXa2",
        "outputId": "a8df49af-fd2e-467c-a368-93a841fa75fe"
      },
      "outputs": [
        {
          "data": {
            "text/plain": [
              "array([0., 0., 0., 1., 0., 0., 0., 0., 1., 0.], dtype=float32)"
            ]
          },
          "execution_count": 30,
          "metadata": {},
          "output_type": "execute_result"
        }
      ],
      "source": [
        "y_pred[0]"
      ]
    },
    {
      "cell_type": "code",
      "execution_count": 31,
      "metadata": {
        "id": "I9vonbecfasC"
      },
      "outputs": [],
      "source": [
        "y_pred = y_pred.astype(int)"
      ]
    },
    {
      "cell_type": "code",
      "execution_count": 32,
      "metadata": {
        "colab": {
          "base_uri": "https://localhost:8080/"
        },
        "id": "t5Rto2pygxlG",
        "outputId": "3b564fb1-2017-4f4a-f45f-ff1a8ddb2b1d"
      },
      "outputs": [
        {
          "data": {
            "text/plain": [
              "array([[0, 0, 0, ..., 0, 1, 0],\n",
              "       [0, 0, 0, ..., 0, 1, 0],\n",
              "       [0, 0, 0, ..., 0, 1, 0],\n",
              "       ...,\n",
              "       [0, 0, 0, ..., 0, 1, 0],\n",
              "       [0, 0, 0, ..., 0, 1, 0],\n",
              "       [0, 0, 0, ..., 0, 1, 0]])"
            ]
          },
          "execution_count": 32,
          "metadata": {},
          "output_type": "execute_result"
        }
      ],
      "source": [
        "y_pred"
      ]
    },
    {
      "cell_type": "code",
      "execution_count": 33,
      "metadata": {
        "colab": {
          "base_uri": "https://localhost:8080/"
        },
        "id": "_P-39hKngV0Z",
        "outputId": "ff7852a7-e94c-419a-9471-a2d0be930a06"
      },
      "outputs": [
        {
          "data": {
            "text/plain": [
              "array([0, 0, 0, 1, 0, 0, 0, 0, 1, 0])"
            ]
          },
          "execution_count": 33,
          "metadata": {},
          "output_type": "execute_result"
        }
      ],
      "source": [
        "y_pred[0]"
      ]
    },
    {
      "cell_type": "markdown",
      "metadata": {
        "id": "yhmvegDaqi9a"
      },
      "source": [
        "#F1score"
      ]
    },
    {
      "cell_type": "code",
      "execution_count": 34,
      "metadata": {
        "id": "ef14PWz142Kz"
      },
      "outputs": [],
      "source": [
        "from sklearn.metrics import f1_score,recall_score,precision_score"
      ]
    },
    {
      "cell_type": "code",
      "execution_count": 36,
      "metadata": {
        "colab": {
          "base_uri": "https://localhost:8080/"
        },
        "id": "aKtZWwj05pT3",
        "outputId": "1a56675e-d040-4dd2-ea3a-545259fc2650"
      },
      "outputs": [
        {
          "name": "stdout",
          "output_type": "stream",
          "text": [
            "0.5810761904761905\n"
          ]
        }
      ],
      "source": [
        "print(f1_score(y_test,y_pred,average='samples'))"
      ]
    },
    {
      "cell_type": "markdown",
      "metadata": {
        "id": "QE1IIxeEqgl_"
      },
      "source": [
        "#Recall"
      ]
    },
    {
      "cell_type": "code",
      "execution_count": 38,
      "metadata": {
        "colab": {
          "base_uri": "https://localhost:8080/"
        },
        "id": "x2OwK78xkHeu",
        "outputId": "5dd8a49b-c529-4b68-8814-63825c77810d"
      },
      "outputs": [
        {
          "name": "stdout",
          "output_type": "stream",
          "text": [
            "0.4636704761904762\n"
          ]
        }
      ],
      "source": [
        "print(recall_score(y_test,y_pred,average='samples'))"
      ]
    },
    {
      "cell_type": "markdown",
      "metadata": {
        "id": "76wVfbgfqe3i"
      },
      "source": [
        "#Precision"
      ]
    },
    {
      "cell_type": "code",
      "execution_count": 40,
      "metadata": {
        "colab": {
          "base_uri": "https://localhost:8080/"
        },
        "id": "e3JpmiM8kIT6",
        "outputId": "cce623a5-1955-4daa-bf48-c11b44c6fbb1"
      },
      "outputs": [
        {
          "name": "stdout",
          "output_type": "stream",
          "text": [
            "0.8566333333333332\n"
          ]
        },
        {
          "name": "stderr",
          "output_type": "stream",
          "text": [
            "/usr/local/lib/python3.7/dist-packages/sklearn/metrics/_classification.py:1318: UndefinedMetricWarning: Precision is ill-defined and being set to 0.0 in samples with no predicted labels. Use `zero_division` parameter to control this behavior.\n",
            "  _warn_prf(average, modifier, msg_start, len(result))\n"
          ]
        }
      ],
      "source": [
        "print(precision_score(y_test,y_pred,average='samples'))"
      ]
    },
    {
      "cell_type": "markdown",
      "metadata": {
        "id": "kaFRG3jOqb24"
      },
      "source": [
        "#Confusion Matrix"
      ]
    },
    {
      "cell_type": "code",
      "execution_count": 41,
      "metadata": {
        "colab": {
          "base_uri": "https://localhost:8080/"
        },
        "id": "qq8ZTdJmqAR2",
        "outputId": "dd5a2fba-ad5f-48ad-d26c-598a6e9b0920"
      },
      "outputs": [
        {
          "name": "stdout",
          "output_type": "stream",
          "text": [
            "[[2074   26]\n",
            " [ 393    7]]\n",
            "[[2220   14]\n",
            " [ 263    3]]\n",
            "[[2187   29]\n",
            " [ 281    3]]\n",
            "[[1535  276]\n",
            " [ 566  123]]\n",
            "[[2134   25]\n",
            " [ 336    5]]\n",
            "[[2194   23]\n",
            " [ 280    3]]\n",
            "[[2005  118]\n",
            " [ 354   23]]\n",
            "[[2183   11]\n",
            " [ 305    1]]\n",
            "[[   0  127]\n",
            " [   7 2366]]\n",
            "[[2197   52]\n",
            " [ 249    2]]\n"
          ]
        }
      ],
      "source": [
        "from sklearn.metrics import confusion_matrix\n",
        "for i in range(10) :\n",
        "  print(confusion_matrix(y_test[:,i], y_pred[:,i]))"
      ]
    },
    {
      "cell_type": "code",
      "execution_count": null,
      "metadata": {
        "id": "TQ-OTNC6tyth"
      },
      "outputs": [],
      "source": []
    }
  ],
  "metadata": {
    "colab": {
      "collapsed_sections": [
        "Opnkox9eBl5M"
      ],
      "provenance": []
    },
    "gpuClass": "standard",
    "kernelspec": {
      "display_name": "Python 3.10.2 64-bit",
      "language": "python",
      "name": "python3"
    },
    "language_info": {
      "name": "python",
      "version": "3.10.2"
    },
    "vscode": {
      "interpreter": {
        "hash": "bb7837b90114a9796f88f5c44ab04f2f1aa4f30584d8aa74a4612e3afe72275d"
      }
    }
  },
  "nbformat": 4,
  "nbformat_minor": 0
}
