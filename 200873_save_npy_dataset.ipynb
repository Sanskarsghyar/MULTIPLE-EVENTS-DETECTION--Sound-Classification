{
  "nbformat": 4,
  "nbformat_minor": 0,
  "metadata": {
    "colab": {
      "provenance": []
    },
    "kernelspec": {
      "name": "python3",
      "display_name": "Python 3"
    },
    "language_info": {
      "name": "python"
    }
  },
  "cells": [
    {
      "cell_type": "code",
      "execution_count": 1,
      "metadata": {
        "id": "YGw0z4LL7bUE"
      },
      "outputs": [],
      "source": [
        "import numpy as np\n",
        "import pandas as pd\n",
        "import os"
      ]
    },
    {
      "cell_type": "code",
      "source": [
        "os.getcwd()"
      ],
      "metadata": {
        "colab": {
          "base_uri": "https://localhost:8080/",
          "height": 36
        },
        "id": "5XbAkwTVojVb",
        "outputId": "c18d2668-592a-45b9-be07-9ab0cd402d15"
      },
      "execution_count": 2,
      "outputs": [
        {
          "output_type": "execute_result",
          "data": {
            "text/plain": [
              "'/content'"
            ],
            "application/vnd.google.colaboratory.intrinsic+json": {
              "type": "string"
            }
          },
          "metadata": {},
          "execution_count": 2
        }
      ]
    },
    {
      "cell_type": "code",
      "source": [
        "path = '/content/drive/MyDrive/COLAB Files/dataset_a2'\n",
        "os.chdir(path)\n",
        "os.getcwd()"
      ],
      "metadata": {
        "id": "FHHepLeZouKi",
        "colab": {
          "base_uri": "https://localhost:8080/",
          "height": 36
        },
        "outputId": "8dde7c7b-2a6c-4465-d021-5e5a652c6845"
      },
      "execution_count": 3,
      "outputs": [
        {
          "output_type": "execute_result",
          "data": {
            "text/plain": [
              "'/content/drive/MyDrive/COLAB Files/dataset_a2'"
            ],
            "application/vnd.google.colaboratory.intrinsic+json": {
              "type": "string"
            }
          },
          "metadata": {},
          "execution_count": 3
        }
      ]
    },
    {
      "cell_type": "code",
      "source": [
        "ls"
      ],
      "metadata": {
        "colab": {
          "base_uri": "https://localhost:8080/"
        },
        "id": "429Itv4Py8mH",
        "outputId": "66a3a77c-18ee-4955-f774-3843fbf92e44"
      },
      "execution_count": 4,
      "outputs": [
        {
          "output_type": "stream",
          "name": "stdout",
          "text": [
            "\u001b[0m\u001b[01;34mX\u001b[0m/  x_test.npy  x_train.npy  \u001b[01;34mY\u001b[0m/  y_test.npy  y_train.npy\n"
          ]
        }
      ]
    },
    {
      "cell_type": "code",
      "source": [
        "xpath = '/content/drive/MyDrive/COLAB Files/dataset_a2/X'\n",
        "ypath = '/content/drive/MyDrive/COLAB Files/dataset_a2/Y'\n",
        "val = '/content/drive/MyDrive/COLAB Files/validation/dataset'\n",
        "xvalpath = '/content/drive/MyDrive/COLAB Files/validation/dataset/X'\n",
        "yvalpath = '/content/drive/MyDrive/COLAB Files/validation/dataset/Y'"
      ],
      "metadata": {
        "id": "7gTzLq9kGPbS"
      },
      "execution_count": 5,
      "outputs": []
    },
    {
      "cell_type": "markdown",
      "source": [
        "##Read X"
      ],
      "metadata": {
        "id": "Opnkox9eBl5M"
      }
    },
    {
      "cell_type": "code",
      "source": [
        "os.chdir(xpath)\n",
        "os.getcwd()"
      ],
      "metadata": {
        "colab": {
          "base_uri": "https://localhost:8080/",
          "height": 36
        },
        "id": "CgV4M7dTAsOq",
        "outputId": "35e24ca0-daba-41f3-a6b1-7a3841025413"
      },
      "execution_count": 6,
      "outputs": [
        {
          "output_type": "execute_result",
          "data": {
            "text/plain": [
              "'/content/drive/MyDrive/COLAB Files/dataset_a2/X'"
            ],
            "application/vnd.google.colaboratory.intrinsic+json": {
              "type": "string"
            }
          },
          "metadata": {},
          "execution_count": 6
        }
      ]
    },
    {
      "cell_type": "code",
      "source": [
        "xp = os.listdir()\n",
        "len(xp)"
      ],
      "metadata": {
        "colab": {
          "base_uri": "https://localhost:8080/"
        },
        "id": "3j2eWlSxCnsa",
        "outputId": "b5765044-1bbc-4257-ccc6-2b7dee0f544c"
      },
      "execution_count": 7,
      "outputs": [
        {
          "output_type": "execute_result",
          "data": {
            "text/plain": [
              "10000"
            ]
          },
          "metadata": {},
          "execution_count": 7
        }
      ]
    },
    {
      "cell_type": "code",
      "source": [
        "x = np.zeros((10000,64,1000,1))\n",
        "\n",
        "for i in range(len(xp)):\n",
        "  a = np.load(xp[i])\n",
        "  x[i,:,0:1000,0] = a[0,:,0:1000]"
      ],
      "metadata": {
        "id": "g6SUjlgmCubm"
      },
      "execution_count": 8,
      "outputs": []
    },
    {
      "cell_type": "code",
      "source": [
        "x.shape "
      ],
      "metadata": {
        "colab": {
          "base_uri": "https://localhost:8080/"
        },
        "id": "2BhNRV0JL1rG",
        "outputId": "966f2f46-2dbf-4eb1-cfec-a8d598d8d14f"
      },
      "execution_count": 9,
      "outputs": [
        {
          "output_type": "execute_result",
          "data": {
            "text/plain": [
              "(10000, 64, 1000, 1)"
            ]
          },
          "metadata": {},
          "execution_count": 9
        }
      ]
    },
    {
      "cell_type": "code",
      "source": [
        "xp[0]"
      ],
      "metadata": {
        "id": "gs4_qU2rJu-q",
        "colab": {
          "base_uri": "https://localhost:8080/",
          "height": 36
        },
        "outputId": "3da774d3-e6d1-48e8-8796-e89c7131e8f1"
      },
      "execution_count": 10,
      "outputs": [
        {
          "output_type": "execute_result",
          "data": {
            "text/plain": [
              "'melspec_4081.npy'"
            ],
            "application/vnd.google.colaboratory.intrinsic+json": {
              "type": "string"
            }
          },
          "metadata": {},
          "execution_count": 10
        }
      ]
    },
    {
      "cell_type": "code",
      "source": [
        "type(x)"
      ],
      "metadata": {
        "colab": {
          "base_uri": "https://localhost:8080/"
        },
        "id": "RShIIDop0o1i",
        "outputId": "582f5f2e-d349-4933-f0b3-f7b8382c6fef"
      },
      "execution_count": 11,
      "outputs": [
        {
          "output_type": "execute_result",
          "data": {
            "text/plain": [
              "numpy.ndarray"
            ]
          },
          "metadata": {},
          "execution_count": 11
        }
      ]
    },
    {
      "cell_type": "markdown",
      "source": [
        "##Read Y"
      ],
      "metadata": {
        "id": "oHmLII0tKMS7"
      }
    },
    {
      "cell_type": "code",
      "source": [
        "def eventroll_to_multihot_vector(eventroll):\n",
        "    \"\"\"\n",
        "    Parameters\n",
        "    ----------\n",
        "    eventroll : np.array\n",
        "        Eventroll matrix of shape=(11, 1000).\n",
        "    \n",
        "    Returns\n",
        "    -------\n",
        "    np.array\n",
        "        A multihot vector of shape=(10,)\n",
        "    \"\"\"\n",
        "    \n",
        "    # findout active events:\n",
        "    active_events = (eventroll.sum(axis=1) >= 0.5).astype('float')\n",
        "    \n",
        "    # remove silence class:\n",
        "    return np.delete(active_events, 8)"
      ],
      "metadata": {
        "id": "cMhh9wvq-E7i"
      },
      "execution_count": 12,
      "outputs": []
    },
    {
      "cell_type": "code",
      "source": [
        "os.chdir(ypath)\n",
        "os.getcwd()"
      ],
      "metadata": {
        "colab": {
          "base_uri": "https://localhost:8080/",
          "height": 36
        },
        "id": "gI60DpsQ8rYZ",
        "outputId": "a16ef1dd-bfbb-4c71-99cc-715243f5d6ff"
      },
      "execution_count": 13,
      "outputs": [
        {
          "output_type": "execute_result",
          "data": {
            "text/plain": [
              "'/content/drive/MyDrive/COLAB Files/dataset_a2/Y'"
            ],
            "application/vnd.google.colaboratory.intrinsic+json": {
              "type": "string"
            }
          },
          "metadata": {},
          "execution_count": 13
        }
      ]
    },
    {
      "cell_type": "code",
      "source": [
        "yp = os.listdir()\n",
        "len(yp)"
      ],
      "metadata": {
        "colab": {
          "base_uri": "https://localhost:8080/"
        },
        "id": "d9Btt6g9-rb7",
        "outputId": "6b4cc33f-b429-4bd3-cc85-a827fe2c8a15"
      },
      "execution_count": 14,
      "outputs": [
        {
          "output_type": "execute_result",
          "data": {
            "text/plain": [
              "10000"
            ]
          },
          "metadata": {},
          "execution_count": 14
        }
      ]
    },
    {
      "cell_type": "code",
      "source": [
        "y_et = np.zeros((10000,11,1000))\n",
        "\n",
        "for i in range(len(yp)):\n",
        "  b = np.load(yp[i])\n",
        "  y_et[i,:,:] = b[:,:]"
      ],
      "metadata": {
        "id": "yokNUKGL9WGa"
      },
      "execution_count": 15,
      "outputs": []
    },
    {
      "cell_type": "code",
      "source": [
        "y = np.zeros((10000,10))\n",
        "\n",
        "for i in range(len(yp)):\n",
        "  c = eventroll_to_multihot_vector(y_et[i])\n",
        "  y[i,:] = c"
      ],
      "metadata": {
        "id": "8Mbf--ZOSe39"
      },
      "execution_count": 16,
      "outputs": []
    },
    {
      "cell_type": "code",
      "source": [
        "y.shape"
      ],
      "metadata": {
        "colab": {
          "base_uri": "https://localhost:8080/"
        },
        "id": "oL7bLcgFL7RR",
        "outputId": "06020fa4-dc5c-4ea8-ec52-07db51aaf49b"
      },
      "execution_count": 17,
      "outputs": [
        {
          "output_type": "execute_result",
          "data": {
            "text/plain": [
              "(10000, 10)"
            ]
          },
          "metadata": {},
          "execution_count": 17
        }
      ]
    },
    {
      "cell_type": "code",
      "source": [
        "y[0].shape"
      ],
      "metadata": {
        "colab": {
          "base_uri": "https://localhost:8080/"
        },
        "id": "3jQk4HdLPX0O",
        "outputId": "f6c636d9-6849-4801-93b4-d7a3987ff913"
      },
      "execution_count": 18,
      "outputs": [
        {
          "output_type": "execute_result",
          "data": {
            "text/plain": [
              "(10,)"
            ]
          },
          "metadata": {},
          "execution_count": 18
        }
      ]
    },
    {
      "cell_type": "code",
      "source": [
        "y[0]"
      ],
      "metadata": {
        "id": "NIFnjJhaBg3R",
        "colab": {
          "base_uri": "https://localhost:8080/"
        },
        "outputId": "bc62ccb7-6c1a-42b7-dfd4-881fe81f09c6"
      },
      "execution_count": 19,
      "outputs": [
        {
          "output_type": "execute_result",
          "data": {
            "text/plain": [
              "array([0., 0., 0., 0., 0., 1., 0., 0., 1., 0.])"
            ]
          },
          "metadata": {},
          "execution_count": 19
        }
      ]
    },
    {
      "cell_type": "code",
      "source": [
        "y[4]"
      ],
      "metadata": {
        "colab": {
          "base_uri": "https://localhost:8080/"
        },
        "id": "lzYwYfswdKCG",
        "outputId": "77cbaa3f-069b-41ef-ddc9-d586d81380d2"
      },
      "execution_count": 20,
      "outputs": [
        {
          "output_type": "execute_result",
          "data": {
            "text/plain": [
              "array([0., 0., 0., 1., 0., 0., 1., 0., 1., 0.])"
            ]
          },
          "metadata": {},
          "execution_count": 20
        }
      ]
    },
    {
      "cell_type": "markdown",
      "source": [
        "##Save "
      ],
      "metadata": {
        "id": "P07zGE-uBsdE"
      }
    },
    {
      "cell_type": "code",
      "source": [
        "from sklearn.model_selection import train_test_split\n",
        "x_tr, x_tes, y_tr, y_tes = train_test_split(x, y, test_size=0.2)"
      ],
      "metadata": {
        "id": "rZwjfnbmWLwV"
      },
      "execution_count": 21,
      "outputs": []
    },
    {
      "cell_type": "code",
      "source": [
        "os.chdir(path)\n",
        "os.getcwd()"
      ],
      "metadata": {
        "colab": {
          "base_uri": "https://localhost:8080/",
          "height": 36
        },
        "outputId": "ebc29142-63c5-4b98-cf76-0f8671909a54",
        "id": "eFC7g8ut_SeO"
      },
      "execution_count": 22,
      "outputs": [
        {
          "output_type": "execute_result",
          "data": {
            "text/plain": [
              "'/content/drive/MyDrive/COLAB Files/dataset_a2'"
            ],
            "application/vnd.google.colaboratory.intrinsic+json": {
              "type": "string"
            }
          },
          "metadata": {},
          "execution_count": 22
        }
      ]
    },
    {
      "cell_type": "code",
      "source": [
        "# x_train = np.zeros((8000,64,1000,1))\n",
        "np.save('x_train', x_tr)"
      ],
      "metadata": {
        "id": "9_3JIHzs_SeO"
      },
      "execution_count": 23,
      "outputs": []
    },
    {
      "cell_type": "code",
      "source": [
        "# x_test = np.zeros((2000,64,1000,1))\n",
        "np.save('x_test', x_tes)"
      ],
      "metadata": {
        "id": "5uuL3g1S_l2k"
      },
      "execution_count": 24,
      "outputs": []
    },
    {
      "cell_type": "code",
      "source": [
        "np.save('y_train', y_tr)"
      ],
      "metadata": {
        "id": "d-usIuMrBJMV"
      },
      "execution_count": 25,
      "outputs": []
    },
    {
      "cell_type": "code",
      "source": [
        "np.save('y_test', y_tes)"
      ],
      "metadata": {
        "id": "P9nxwnRtBW00"
      },
      "execution_count": 26,
      "outputs": []
    },
    {
      "cell_type": "code",
      "source": [],
      "metadata": {
        "id": "sJFiB5IVHetl"
      },
      "execution_count": 26,
      "outputs": []
    }
  ]
}