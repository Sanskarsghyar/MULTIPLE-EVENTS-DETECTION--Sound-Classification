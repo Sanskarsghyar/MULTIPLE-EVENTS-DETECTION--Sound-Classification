{
  "cells": [
    {
      "cell_type": "code",
      "execution_count": 69,
      "metadata": {
        "id": "YGw0z4LL7bUE"
      },
      "outputs": [],
      "source": [
        "import numpy as np\n",
        "import pandas as pd\n",
        "import os\n",
        "import matplotlib.pyplot as plt\n",
        "import tensorflow as tf\n",
        "import librosa\n",
        "%matplotlib inline"
      ]
    },
    {
      "cell_type": "markdown",
      "metadata": {
        "id": "vEGHoAUkeY3j"
      },
      "source": [
        "##Load test_labels"
      ]
    },
    {
      "cell_type": "code",
      "execution_count": 71,
      "metadata": {
        "colab": {
          "base_uri": "https://localhost:8080/",
          "height": 35
        },
        "id": "FHHepLeZouKi",
        "outputId": "e825152d-b07e-4471-954c-88f8057e71da"
      },
      "outputs": [
        {
          "data": {
            "application/vnd.google.colaboratory.intrinsic+json": {
              "type": "string"
            },
            "text/plain": [
              "'/content/drive/MyDrive/lables_test'"
            ]
          },
          "execution_count": 71,
          "metadata": {},
          "output_type": "execute_result"
        }
      ],
      "source": [
        "path = '/content/drive/MyDrive/lables_test'\n",
        "os.chdir(path)\n",
        "os.getcwd()"
      ]
    },
    {
      "cell_type": "code",
      "execution_count": 72,
      "metadata": {
        "id": "cMhh9wvq-E7i"
      },
      "outputs": [],
      "source": [
        "def eventroll_to_multihot_vector(eventroll):\n",
        "    \"\"\"\n",
        "    Parameters\n",
        "    ----------\n",
        "    eventroll : np.array\n",
        "        Eventroll matrix of shape=(11, 1000).\n",
        "    \n",
        "    Returns\n",
        "    -------\n",
        "    np.array\n",
        "        A multihot vector of shape=(10,)\n",
        "    \"\"\"\n",
        "    \n",
        "    # findout active events:\n",
        "    active_events = (eventroll.sum(axis=1) >= 0.5).astype('float')\n",
        "    \n",
        "    # remove silence class:\n",
        "    return np.delete(active_events, 8)"
      ]
    },
    {
      "cell_type": "code",
      "execution_count": 73,
      "metadata": {
        "colab": {
          "base_uri": "https://localhost:8080/",
          "height": 35
        },
        "id": "gI60DpsQ8rYZ",
        "outputId": "33916604-9abd-4e70-e55d-e2b0873a427a"
      },
      "outputs": [
        {
          "data": {
            "application/vnd.google.colaboratory.intrinsic+json": {
              "type": "string"
            },
            "text/plain": [
              "'/content/drive/MyDrive/lables_test'"
            ]
          },
          "execution_count": 73,
          "metadata": {},
          "output_type": "execute_result"
        }
      ],
      "source": [
        "os.chdir(path)\n",
        "os.getcwd()"
      ]
    },
    {
      "cell_type": "code",
      "execution_count": 74,
      "metadata": {
        "colab": {
          "base_uri": "https://localhost:8080/"
        },
        "id": "d9Btt6g9-rb7",
        "outputId": "c2d45b9d-373e-4a04-e6da-94306933a482"
      },
      "outputs": [
        {
          "data": {
            "text/plain": [
              "2500"
            ]
          },
          "execution_count": 74,
          "metadata": {},
          "output_type": "execute_result"
        }
      ],
      "source": [
        "yp = os.listdir()\n",
        "len(yp)"
      ]
    },
    {
      "cell_type": "code",
      "execution_count": 75,
      "metadata": {
        "colab": {
          "base_uri": "https://localhost:8080/",
          "height": 35
        },
        "id": "h0v3YkZ1gBNL",
        "outputId": "a1fc555a-2d66-4004-c013-6c51e229a303"
      },
      "outputs": [
        {
          "data": {
            "application/vnd.google.colaboratory.intrinsic+json": {
              "type": "string"
            },
            "text/plain": [
              "'eventroll_2348.npy'"
            ]
          },
          "execution_count": 75,
          "metadata": {},
          "output_type": "execute_result"
        }
      ],
      "source": [
        "yp[0]"
      ]
    },
    {
      "cell_type": "code",
      "execution_count": 76,
      "metadata": {
        "id": "23bm5TLEgWnz"
      },
      "outputs": [],
      "source": [
        "yp.sort()"
      ]
    },
    {
      "cell_type": "code",
      "execution_count": 77,
      "metadata": {
        "colab": {
          "base_uri": "https://localhost:8080/",
          "height": 35
        },
        "id": "OCGiKhNLhkNN",
        "outputId": "3b7bc936-b3b3-4963-fb02-06435787cab7"
      },
      "outputs": [
        {
          "data": {
            "application/vnd.google.colaboratory.intrinsic+json": {
              "type": "string"
            },
            "text/plain": [
              "'eventroll_0.npy'"
            ]
          },
          "execution_count": 77,
          "metadata": {},
          "output_type": "execute_result"
        }
      ],
      "source": [
        "yp[0]"
      ]
    },
    {
      "cell_type": "code",
      "execution_count": 78,
      "metadata": {
        "id": "yokNUKGL9WGa"
      },
      "outputs": [],
      "source": [
        "y_et = np.zeros((len(yp),11,1000))\n",
        "\n",
        "for i in range(len(yp)):\n",
        "  b = np.load(yp[i])\n",
        "  y_et[i,:,:] = b[:,:]"
      ]
    },
    {
      "cell_type": "code",
      "execution_count": 79,
      "metadata": {
        "id": "8Mbf--ZOSe39"
      },
      "outputs": [],
      "source": [
        "y = np.zeros((len(yp),10))\n",
        "\n",
        "for i in range(len(yp)):\n",
        "  c = eventroll_to_multihot_vector(y_et[i])\n",
        "  y[i,:] = c"
      ]
    },
    {
      "cell_type": "code",
      "execution_count": 80,
      "metadata": {
        "colab": {
          "base_uri": "https://localhost:8080/"
        },
        "id": "oL7bLcgFL7RR",
        "outputId": "a7b2367f-4981-4fb5-edeb-ebcaf7cc89b9"
      },
      "outputs": [
        {
          "data": {
            "text/plain": [
              "(2500, 10)"
            ]
          },
          "execution_count": 80,
          "metadata": {},
          "output_type": "execute_result"
        }
      ],
      "source": [
        "y.shape"
      ]
    },
    {
      "cell_type": "code",
      "execution_count": 81,
      "metadata": {
        "colab": {
          "base_uri": "https://localhost:8080/"
        },
        "id": "3jQk4HdLPX0O",
        "outputId": "e7c37eba-26a8-45e7-a009-a650bb096c79"
      },
      "outputs": [
        {
          "data": {
            "text/plain": [
              "(10,)"
            ]
          },
          "execution_count": 81,
          "metadata": {},
          "output_type": "execute_result"
        }
      ],
      "source": [
        "y[0].shape"
      ]
    },
    {
      "cell_type": "code",
      "execution_count": 82,
      "metadata": {
        "colab": {
          "base_uri": "https://localhost:8080/"
        },
        "id": "NIFnjJhaBg3R",
        "outputId": "2389718a-41ec-4640-dcd6-26cd9b08bb61"
      },
      "outputs": [
        {
          "data": {
            "text/plain": [
              "array([0., 0., 0., 0., 1., 0., 0., 0., 1., 0.])"
            ]
          },
          "execution_count": 82,
          "metadata": {},
          "output_type": "execute_result"
        }
      ],
      "source": [
        "y[0]"
      ]
    },
    {
      "cell_type": "code",
      "execution_count": 83,
      "metadata": {
        "id": "rhvvTaGud-3J"
      },
      "outputs": [],
      "source": [
        "y_test = y"
      ]
    },
    {
      "cell_type": "code",
      "execution_count": 83,
      "metadata": {
        "id": "1od9zjjyePYB"
      },
      "outputs": [],
      "source": []
    },
    {
      "cell_type": "markdown",
      "metadata": {
        "id": "Opnkox9eBl5M"
      },
      "source": [
        "##Read X"
      ]
    },
    {
      "cell_type": "code",
      "execution_count": 84,
      "metadata": {
        "colab": {
          "base_uri": "https://localhost:8080/",
          "height": 35
        },
        "id": "5XbAkwTVojVb",
        "outputId": "604c9d66-f4f4-49c7-c59b-d409ca7eedbe"
      },
      "outputs": [
        {
          "data": {
            "application/vnd.google.colaboratory.intrinsic+json": {
              "type": "string"
            },
            "text/plain": [
              "'/content/drive/MyDrive/lables_test'"
            ]
          },
          "execution_count": 84,
          "metadata": {},
          "output_type": "execute_result"
        }
      ],
      "source": [
        "os.getcwd()"
      ]
    },
    {
      "cell_type": "code",
      "execution_count": 85,
      "metadata": {
        "id": "7gTzLq9kGPbS"
      },
      "outputs": [],
      "source": [
        "xtestpath = '/content/drive/MyDrive/test/X'"
      ]
    },
    {
      "cell_type": "code",
      "execution_count": 86,
      "metadata": {
        "colab": {
          "base_uri": "https://localhost:8080/",
          "height": 35
        },
        "id": "CgV4M7dTAsOq",
        "outputId": "748e7fcc-37ab-451d-9a9b-70c3ad8ed5cc"
      },
      "outputs": [
        {
          "data": {
            "application/vnd.google.colaboratory.intrinsic+json": {
              "type": "string"
            },
            "text/plain": [
              "'/content/drive/MyDrive/test/X'"
            ]
          },
          "execution_count": 86,
          "metadata": {},
          "output_type": "execute_result"
        }
      ],
      "source": [
        "os.chdir(xtestpath)\n",
        "os.getcwd()"
      ]
    },
    {
      "cell_type": "code",
      "execution_count": 87,
      "metadata": {
        "colab": {
          "base_uri": "https://localhost:8080/"
        },
        "id": "3j2eWlSxCnsa",
        "outputId": "23d99cd5-d941-4a57-95df-ed3d82e181f6"
      },
      "outputs": [
        {
          "data": {
            "text/plain": [
              "2500"
            ]
          },
          "execution_count": 87,
          "metadata": {},
          "output_type": "execute_result"
        }
      ],
      "source": [
        "xp = os.listdir()\n",
        "len(xp)"
      ]
    },
    {
      "cell_type": "code",
      "execution_count": 88,
      "metadata": {
        "colab": {
          "base_uri": "https://localhost:8080/",
          "height": 35
        },
        "id": "D72x9k_QiSjS",
        "outputId": "2749a1e1-b856-494d-a2ac-f57067b7f1fd"
      },
      "outputs": [
        {
          "data": {
            "application/vnd.google.colaboratory.intrinsic+json": {
              "type": "string"
            },
            "text/plain": [
              "'melspec_20.npy'"
            ]
          },
          "execution_count": 88,
          "metadata": {},
          "output_type": "execute_result"
        }
      ],
      "source": [
        "xp[0]"
      ]
    },
    {
      "cell_type": "code",
      "execution_count": 89,
      "metadata": {
        "id": "tMsDG6kfgn9_"
      },
      "outputs": [],
      "source": [
        "xp.sort()"
      ]
    },
    {
      "cell_type": "code",
      "execution_count": 90,
      "metadata": {
        "colab": {
          "base_uri": "https://localhost:8080/",
          "height": 35
        },
        "id": "OTcWtglWgzys",
        "outputId": "a9ec43e0-bc3a-47ae-cc68-04da87b3999c"
      },
      "outputs": [
        {
          "data": {
            "application/vnd.google.colaboratory.intrinsic+json": {
              "type": "string"
            },
            "text/plain": [
              "'melspec_0.npy'"
            ]
          },
          "execution_count": 90,
          "metadata": {},
          "output_type": "execute_result"
        }
      ],
      "source": [
        "xp[0]"
      ]
    },
    {
      "cell_type": "code",
      "execution_count": 91,
      "metadata": {
        "id": "g6SUjlgmCubm"
      },
      "outputs": [],
      "source": [
        "x_test = np.zeros((len(xp),64,1000,1))\n",
        "\n",
        "for i in range(len(xp)):\n",
        "  a = np.load(xp[i])\n",
        "  x_test[i,:,0:1000,0] = a[0,:,0:1000]"
      ]
    },
    {
      "cell_type": "code",
      "execution_count": 92,
      "metadata": {
        "colab": {
          "base_uri": "https://localhost:8080/"
        },
        "id": "2BhNRV0JL1rG",
        "outputId": "ed80696a-f3fe-4ccb-b536-8b2997eb2e5d"
      },
      "outputs": [
        {
          "data": {
            "text/plain": [
              "(2500, 64, 1000, 1)"
            ]
          },
          "execution_count": 92,
          "metadata": {},
          "output_type": "execute_result"
        }
      ],
      "source": [
        "x_test.shape "
      ]
    },
    {
      "cell_type": "code",
      "execution_count": 93,
      "metadata": {
        "colab": {
          "base_uri": "https://localhost:8080/",
          "height": 35
        },
        "id": "gs4_qU2rJu-q",
        "outputId": "8842a992-9588-4b78-f9ce-f53152f33555"
      },
      "outputs": [
        {
          "data": {
            "application/vnd.google.colaboratory.intrinsic+json": {
              "type": "string"
            },
            "text/plain": [
              "'melspec_0.npy'"
            ]
          },
          "execution_count": 93,
          "metadata": {},
          "output_type": "execute_result"
        }
      ],
      "source": [
        "xp[0]"
      ]
    },
    {
      "cell_type": "code",
      "execution_count": 94,
      "metadata": {
        "colab": {
          "base_uri": "https://localhost:8080/"
        },
        "id": "RShIIDop0o1i",
        "outputId": "6268b99c-a1ac-4ac4-d8a2-232f60c24fc5"
      },
      "outputs": [
        {
          "data": {
            "text/plain": [
              "numpy.ndarray"
            ]
          },
          "execution_count": 94,
          "metadata": {},
          "output_type": "execute_result"
        }
      ],
      "source": [
        "type(x_test)"
      ]
    },
    {
      "cell_type": "markdown",
      "metadata": {
        "id": "zpiZveYXevfP"
      },
      "source": [
        "#Pred"
      ]
    },
    {
      "cell_type": "code",
      "execution_count": 95,
      "metadata": {
        "id": "sJFiB5IVHetl"
      },
      "outputs": [],
      "source": [
        "m = tf.keras.models.load_model('/content/drive/MyDrive/ann')"
      ]
    },
    {
      "cell_type": "code",
      "execution_count": 96,
      "metadata": {
        "colab": {
          "base_uri": "https://localhost:8080/"
        },
        "id": "GxGHsIWse6_Y",
        "outputId": "d79d6acf-7b08-44b7-8835-af4b751abc53"
      },
      "outputs": [
        {
          "name": "stdout",
          "output_type": "stream",
          "text": [
            "79/79 [==============================] - 0s 5ms/step\n"
          ]
        }
      ],
      "source": [
        "y_pred = m.predict(x_test)"
      ]
    },
    {
      "cell_type": "code",
      "execution_count": 97,
      "metadata": {
        "id": "d_JPuK_VfAC3"
      },
      "outputs": [],
      "source": [
        "for i in range (len(y_pred)) :\n",
        "  for j in range (10):\n",
        "    if y_pred[i,j] >=0.5 :\n",
        "      y_pred[i,j] = 1\n",
        "    else :\n",
        "      y_pred[i,j] = 0"
      ]
    },
    {
      "cell_type": "code",
      "execution_count": 98,
      "metadata": {
        "colab": {
          "base_uri": "https://localhost:8080/"
        },
        "id": "SqNgT1GffXa2",
        "outputId": "867d9919-f343-4f65-8ded-81f373d5d389"
      },
      "outputs": [
        {
          "data": {
            "text/plain": [
              "array([0., 0., 0., 0., 0., 0., 0., 1., 1., 0.], dtype=float32)"
            ]
          },
          "execution_count": 98,
          "metadata": {},
          "output_type": "execute_result"
        }
      ],
      "source": [
        "y_pred[0]"
      ]
    },
    {
      "cell_type": "code",
      "execution_count": 99,
      "metadata": {
        "id": "I9vonbecfasC"
      },
      "outputs": [],
      "source": [
        "y_pred = y_pred.astype(int)"
      ]
    },
    {
      "cell_type": "code",
      "execution_count": 100,
      "metadata": {
        "colab": {
          "base_uri": "https://localhost:8080/"
        },
        "id": "t5Rto2pygxlG",
        "outputId": "ceded819-9e14-432b-a298-4f485f43f807"
      },
      "outputs": [
        {
          "data": {
            "text/plain": [
              "array([[0, 0, 0, ..., 1, 1, 0],\n",
              "       [0, 0, 0, ..., 0, 1, 0],\n",
              "       [0, 1, 0, ..., 0, 1, 0],\n",
              "       ...,\n",
              "       [0, 0, 0, ..., 0, 1, 0],\n",
              "       [0, 0, 1, ..., 0, 1, 0],\n",
              "       [0, 0, 0, ..., 0, 1, 0]])"
            ]
          },
          "execution_count": 100,
          "metadata": {},
          "output_type": "execute_result"
        }
      ],
      "source": [
        "y_pred"
      ]
    },
    {
      "cell_type": "code",
      "execution_count": 101,
      "metadata": {
        "colab": {
          "base_uri": "https://localhost:8080/"
        },
        "id": "_P-39hKngV0Z",
        "outputId": "85abc3fc-25ae-488e-eb04-121a74dcbde8"
      },
      "outputs": [
        {
          "data": {
            "text/plain": [
              "array([0, 0, 0, 0, 0, 0, 0, 1, 1, 0])"
            ]
          },
          "execution_count": 101,
          "metadata": {},
          "output_type": "execute_result"
        }
      ],
      "source": [
        "y_pred[0]"
      ]
    },
    {
      "cell_type": "code",
      "execution_count": 101,
      "metadata": {
        "id": "6M1MmwCDhBiJ"
      },
      "outputs": [],
      "source": []
    },
    {
      "cell_type": "markdown",
      "metadata": {
        "id": "yhmvegDaqi9a"
      },
      "source": [
        "#F1score"
      ]
    },
    {
      "cell_type": "code",
      "execution_count": 110,
      "metadata": {
        "id": "DqU5qcLQq54Y"
      },
      "outputs": [],
      "source": [
        "from sklearn.metrics import f1_score,recall_score,precision_score"
      ]
    },
    {
      "cell_type": "code",
      "execution_count": 112,
      "metadata": {
        "colab": {
          "base_uri": "https://localhost:8080/"
        },
        "id": "fDVduZxYq54Y",
        "outputId": "66bd0b6d-d96a-4b0e-b6fd-5c7a12ba4fa6"
      },
      "outputs": [
        {
          "name": "stdout",
          "output_type": "stream",
          "text": [
            "0.4831923809523809\n"
          ]
        }
      ],
      "source": [
        "print(f1_score(y_test,y_pred,average='samples'))"
      ]
    },
    {
      "cell_type": "markdown",
      "metadata": {
        "id": "QE1IIxeEqgl_"
      },
      "source": [
        "#Recall"
      ]
    },
    {
      "cell_type": "code",
      "execution_count": 114,
      "metadata": {
        "colab": {
          "base_uri": "https://localhost:8080/"
        },
        "id": "XBWiNdu0q54Z",
        "outputId": "92266fc0-f2a4-456c-bdd7-064c8c7562bc"
      },
      "outputs": [
        {
          "name": "stdout",
          "output_type": "stream",
          "text": [
            "0.46749714285714283\n"
          ]
        }
      ],
      "source": [
        "print(recall_score(y_test,y_pred,average='samples'))"
      ]
    },
    {
      "cell_type": "markdown",
      "metadata": {
        "id": "76wVfbgfqe3i"
      },
      "source": [
        "#Precision"
      ]
    },
    {
      "cell_type": "code",
      "execution_count": 116,
      "metadata": {
        "colab": {
          "base_uri": "https://localhost:8080/"
        },
        "id": "Y3In1XJKq54Z",
        "outputId": "e89c768b-1e66-4c69-d6e7-d70be1b1263f"
      },
      "outputs": [
        {
          "name": "stdout",
          "output_type": "stream",
          "text": [
            "0.5544133333333333\n"
          ]
        },
        {
          "name": "stderr",
          "output_type": "stream",
          "text": [
            "/usr/local/lib/python3.7/dist-packages/sklearn/metrics/_classification.py:1318: UndefinedMetricWarning: Precision is ill-defined and being set to 0.0 in samples with no predicted labels. Use `zero_division` parameter to control this behavior.\n",
            "  _warn_prf(average, modifier, msg_start, len(result))\n"
          ]
        }
      ],
      "source": [
        "print(precision_score(y_test,y_pred,average='samples'))"
      ]
    },
    {
      "cell_type": "markdown",
      "metadata": {
        "id": "kaFRG3jOqb24"
      },
      "source": [
        "#Confusion Matrix"
      ]
    },
    {
      "cell_type": "code",
      "execution_count": 117,
      "metadata": {
        "colab": {
          "base_uri": "https://localhost:8080/"
        },
        "id": "qq8ZTdJmqAR2",
        "outputId": "c095217c-82a3-478c-cf0c-489db54d33d3"
      },
      "outputs": [
        {
          "name": "stdout",
          "output_type": "stream",
          "text": [
            "[[1910  190]\n",
            " [ 366   34]]\n",
            "[[1800  434]\n",
            " [ 208   58]]\n",
            "[[2078  138]\n",
            " [ 261   23]]\n",
            "[[1272  539]\n",
            " [ 504  185]]\n",
            "[[2040  119]\n",
            " [ 316   25]]\n",
            "[[2088  129]\n",
            " [ 263   20]]\n",
            "[[1820  303]\n",
            " [ 352   25]]\n",
            "[[1964  230]\n",
            " [ 274   32]]\n",
            "[[  10  117]\n",
            " [ 222 2151]]\n",
            "[[2098  151]\n",
            " [ 228   23]]\n"
          ]
        }
      ],
      "source": [
        "from sklearn.metrics import confusion_matrix\n",
        "for i in range(10) :\n",
        "  print(confusion_matrix(y_test[:,i], y_pred[:,i]))"
      ]
    },
    {
      "cell_type": "code",
      "execution_count": 117,
      "metadata": {
        "id": "PHzS_ykJnvvY"
      },
      "outputs": [],
      "source": []
    }
  ],
  "metadata": {
    "accelerator": "GPU",
    "colab": {
      "collapsed_sections": [
        "Opnkox9eBl5M"
      ],
      "provenance": []
    },
    "gpuClass": "standard",
    "kernelspec": {
      "display_name": "Python 3.10.2 64-bit",
      "language": "python",
      "name": "python3"
    },
    "language_info": {
      "name": "python",
      "version": "3.10.2"
    },
    "vscode": {
      "interpreter": {
        "hash": "bb7837b90114a9796f88f5c44ab04f2f1aa4f30584d8aa74a4612e3afe72275d"
      }
    }
  },
  "nbformat": 4,
  "nbformat_minor": 0
}
